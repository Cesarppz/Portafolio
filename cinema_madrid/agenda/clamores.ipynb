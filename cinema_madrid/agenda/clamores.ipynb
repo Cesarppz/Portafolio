{
 "cells": [
  {
   "cell_type": "code",
   "execution_count": 3,
   "id": "86687309-dadd-4d2e-b565-5a67afbef5be",
   "metadata": {},
   "outputs": [],
   "source": [
    "from selenium import webdriver\n",
    "import re\n",
    "import time\n",
    "import pandas as pd\n",
    "import urllib\n",
    "import subprocess"
   ]
  },
  {
   "cell_type": "code",
   "execution_count": 7,
   "id": "66f0afe9-f1ef-43b5-8008-8cb7fe7ebdc6",
   "metadata": {},
   "outputs": [],
   "source": [
    "options = webdriver.ChromeOptions()\n",
    "#options.add_argument(r'--user-data-dir=/home/cesar/.config/google-chrome/default/Default')"
   ]
  },
  {
   "cell_type": "code",
   "execution_count": 9,
   "id": "18b5abe9-18ee-4359-80df-b9e4e71713f9",
   "metadata": {},
   "outputs": [],
   "source": [
    "driver = webdriver.Chrome(executable_path='/home/cesar/Desktop/whts/driver/chromedriver', options=options)"
   ]
  },
  {
   "cell_type": "code",
   "execution_count": 10,
   "id": "321035ca-ce04-4829-ae85-83ca0ad2a595",
   "metadata": {},
   "outputs": [],
   "source": [
    "url = 'https://www.thefork.es/search/?cityId=328022&areaTagId'\n",
    "driver.get(url)"
   ]
  },
  {
   "cell_type": "markdown",
   "id": "1ca5f13a-236d-457f-8e8c-fccceaed7b33",
   "metadata": {},
   "source": [
    "# Process"
   ]
  },
  {
   "cell_type": "markdown",
   "id": "338ec39e-04ab-4df1-9baf-0e682d64e2b9",
   "metadata": {},
   "source": [
    "### Get main links"
   ]
  },
  {
   "cell_type": "code",
   "execution_count": 10,
   "id": "1754b2cd-4417-451b-9144-456db60fdeb0",
   "metadata": {},
   "outputs": [],
   "source": [
    "links = set(driver.find_elements_by_xpath('//div[@class=\"slug__EventsList-cudome-5 lcMPKI\"]/div[@class=\"slug__Event-cudome-9 cDbNJ\"]/div[@class=\"slug__EventMediaWrapper-cudome-6 glsAUp\"]/a[@class=\"EventParts__EventLink-gggr6d-7 gzoHFk\"]'))\n",
    "#links = [link.get_attribute('href') for link in links]\n",
    "links = list(links)"
   ]
  },
  {
   "cell_type": "markdown",
   "id": "7fd01315-e8ef-4300-898f-92e8d4196655",
   "metadata": {},
   "source": [
    "### Get into the pages"
   ]
  },
  {
   "cell_type": "code",
   "execution_count": 35,
   "id": "c8c73fcf-51e3-4f86-82fc-309fb625f979",
   "metadata": {},
   "outputs": [],
   "source": [
    "def get_image(image):\n",
    "    if image:\n",
    "        image_name = re.match(link_image_pattern, image).group(2)\n",
    "        urllib.request.urlretrieve(image,image_name)\n",
    "            \n",
    "        #   Mover la imagen a la carpeta de imagenes\n",
    "        subprocess.run(['mv',image_name,'../image_dir/{}'.format(image_name)],cwd='.')\n",
    "    else:\n",
    "        return f'No finded image: {image}'\n"
   ]
  },
  {
   "cell_type": "code",
   "execution_count": 15,
   "id": "153c4285-5ef2-400e-a3ce-163c62c425dc",
   "metadata": {},
   "outputs": [],
   "source": [
    "data_box = []\n",
    "for link in links:\n",
    "    link.click()\n",
    "    title = driver.find_element_by_xpath('//h1').text\n",
    "    schedule = driver.find_element_by_xpath('//div[@class=\"EventDetailsTitle__Date-sc-1k9ti6o-2 jaHJBu\"]').text\n",
    "    description = driver.find_element_by_xpath('//div[@class=\"EventDetailsAbout__Container-ae1gx7-2 kbvIuP\"]/div[@class=\"EventDetailsAbout__Text-ae1gx7-1 lcqYWa\"]//p').text\n",
    "    image = driver.find_element_by_xpath('//div[@class=\"EventDetailsImage__Container-tyysjl-0 guuKgv\"]/img').get_attribute('src')\n",
    "    get_image(image)\n",
    "    large_title = f'Sala Clamores / {title} / {schedule.strip()}'\n",
    "\n",
    "    \n",
    "    dicto = {\n",
    "        'Nombre_lugar':'Sala Clamores',\n",
    "        'Descripción':description,\n",
    "        'Product_name': large_title,\n",
    "        'Horario':schedule,\n",
    "        'Categoría': 'Jazz y Soul',\n",
    "        'image':image_name,\n",
    "        'Link de compra': 'https://www.casademexico.es/agenda/',\n",
    "        'Link':link\n",
    "    } \n",
    "    \n",
    "    driver.back()"
   ]
  },
  {
   "cell_type": "code",
   "execution_count": 16,
   "id": "cbd66c9e-d760-4c9a-85ca-e8c23142bd1d",
   "metadata": {},
   "outputs": [
    {
     "data": {
      "text/plain": [
       "[]"
      ]
     },
     "execution_count": 16,
     "metadata": {},
     "output_type": "execute_result"
    }
   ],
   "source": [
    "data_box"
   ]
  },
  {
   "cell_type": "code",
   "execution_count": 37,
   "id": "610c0231-b208-4f0c-be81-35ebdf8f0650",
   "metadata": {},
   "outputs": [],
   "source": [
    "button = driver.find_element_by_xpath('//button[@class=\"ButtonBase-sc-5s9b5p-0 Button-b89jdo-1 EventDetailsCallToAction__ActionButton-sc-1gt12jz-5 cGyKIC fzRxQe nGVcs\"]')"
   ]
  },
  {
   "cell_type": "code",
   "execution_count": 38,
   "id": "a88369c6-baa9-40b0-bc33-bab15e759a25",
   "metadata": {},
   "outputs": [],
   "source": [
    "button.click()"
   ]
  },
  {
   "cell_type": "code",
   "execution_count": null,
   "id": "f763dfb5-3b0d-4f97-bd86-bd7c2451f633",
   "metadata": {},
   "outputs": [],
   "source": [
    "data"
   ]
  }
 ],
 "metadata": {
  "kernelspec": {
   "display_name": "Python [conda env:ws]",
   "language": "python",
   "name": "conda-env-ws-py"
  },
  "language_info": {
   "codemirror_mode": {
    "name": "ipython",
    "version": 3
   },
   "file_extension": ".py",
   "mimetype": "text/x-python",
   "name": "python",
   "nbconvert_exporter": "python",
   "pygments_lexer": "ipython3",
   "version": "3.7.10"
  }
 },
 "nbformat": 4,
 "nbformat_minor": 5
}
